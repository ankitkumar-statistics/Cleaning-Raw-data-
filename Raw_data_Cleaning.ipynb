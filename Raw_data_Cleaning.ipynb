{
 "cells": [
  {
   "cell_type": "markdown",
   "id": "82678252-4286-4799-b273-e85f959edf4b",
   "metadata": {},
   "source": [
    "### WE have tried to clean the row data on small sample"
   ]
  },
  {
   "cell_type": "code",
   "execution_count": 1,
   "id": "b77e8b60-c841-4260-937b-901d91284cb5",
   "metadata": {},
   "outputs": [],
   "source": [
    "import pandas as pd"
   ]
  },
  {
   "cell_type": "code",
   "execution_count": 41,
   "id": "14ef9c88-e998-4961-b634-ff33609f6321",
   "metadata": {},
   "outputs": [],
   "source": [
    "df = pd.read_excel(\"Rawdata.xlsx\")"
   ]
  },
  {
   "cell_type": "code",
   "execution_count": 43,
   "id": "c70f7290-0f52-4eb4-89dc-d286921e8c2a",
   "metadata": {},
   "outputs": [
    {
     "name": "stdout",
     "output_type": "stream",
     "text": [
      "     Name          Domain       Age   Location   Salary      Exp\n",
      "0    Mike   Datascience#$  34 years     Mumbai   5^00#0       2+\n",
      "1  Teddy^         Testing    45' yr  Bangalore  10%%000       <3\n",
      "2   Uma#r  Dataanalyst^^#       NaN        NaN  1$5%000   4> yrs\n",
      "3    Jane     Ana^^lytics       NaN   Hyderbad   2000^0      NaN\n",
      "4  Uttam*      Statistics     67-yr        NaN   30000-  5+ year\n",
      "5     Kim             NLP      55yr      Delhi  6000^$0      10+\n"
     ]
    }
   ],
   "source": [
    "print(df)"
   ]
  },
  {
   "cell_type": "code",
   "execution_count": 45,
   "id": "d86f54eb-8526-4052-b5ac-7631d06f1839",
   "metadata": {},
   "outputs": [
    {
     "data": {
      "text/plain": [
       "(6, 6)"
      ]
     },
     "execution_count": 45,
     "metadata": {},
     "output_type": "execute_result"
    }
   ],
   "source": [
    "df.shape"
   ]
  },
  {
   "cell_type": "code",
   "execution_count": 47,
   "id": "38c26d26-8a64-47b5-9b3e-06f14f3b13e8",
   "metadata": {},
   "outputs": [
    {
     "data": {
      "text/plain": [
       "Index(['Name', 'Domain', 'Age', 'Location', 'Salary', 'Exp'], dtype='object')"
      ]
     },
     "execution_count": 47,
     "metadata": {},
     "output_type": "execute_result"
    }
   ],
   "source": [
    "df.columns"
   ]
  },
  {
   "cell_type": "code",
   "execution_count": 49,
   "id": "2822c6fd-16ad-433b-9bd5-e8d116525cb5",
   "metadata": {},
   "outputs": [
    {
     "name": "stdout",
     "output_type": "stream",
     "text": [
      "<class 'pandas.core.frame.DataFrame'>\n",
      "RangeIndex: 6 entries, 0 to 5\n",
      "Data columns (total 6 columns):\n",
      " #   Column    Non-Null Count  Dtype \n",
      "---  ------    --------------  ----- \n",
      " 0   Name      6 non-null      object\n",
      " 1   Domain    6 non-null      object\n",
      " 2   Age       4 non-null      object\n",
      " 3   Location  4 non-null      object\n",
      " 4   Salary    6 non-null      object\n",
      " 5   Exp       5 non-null      object\n",
      "dtypes: object(6)\n",
      "memory usage: 420.0+ bytes\n"
     ]
    }
   ],
   "source": [
    "df.info()"
   ]
  },
  {
   "cell_type": "code",
   "execution_count": 55,
   "id": "0430c3ae-e42f-4ee2-bc7f-fd970870373b",
   "metadata": {},
   "outputs": [],
   "source": [
    "df.columns = df.columns.str.lower()"
   ]
  },
  {
   "cell_type": "code",
   "execution_count": 57,
   "id": "7c87d26a-a2b3-4dcc-8b41-d85f3f11e351",
   "metadata": {},
   "outputs": [
    {
     "name": "stdout",
     "output_type": "stream",
     "text": [
      "     name          domain       age   location   salary      exp\n",
      "0    Mike   Datascience#$  34 years     Mumbai   5^00#0       2+\n",
      "1  Teddy^         Testing    45' yr  Bangalore  10%%000       <3\n",
      "2   Uma#r  Dataanalyst^^#       NaN        NaN  1$5%000   4> yrs\n",
      "3    Jane     Ana^^lytics       NaN   Hyderbad   2000^0      NaN\n",
      "4  Uttam*      Statistics     67-yr        NaN   30000-  5+ year\n",
      "5     Kim             NLP      55yr      Delhi  6000^$0      10+\n"
     ]
    }
   ],
   "source": [
    "print(df)"
   ]
  },
  {
   "cell_type": "code",
   "execution_count": 59,
   "id": "7b1786b0-f90b-4b15-9479-e37a9f913efe",
   "metadata": {},
   "outputs": [
    {
     "data": {
      "text/plain": [
       "0      Mike\n",
       "1    Teddy^\n",
       "2     Uma#r\n",
       "3      Jane\n",
       "4    Uttam*\n",
       "5       Kim\n",
       "Name: name, dtype: object"
      ]
     },
     "execution_count": 59,
     "metadata": {},
     "output_type": "execute_result"
    }
   ],
   "source": [
    "df['name']"
   ]
  },
  {
   "cell_type": "code",
   "execution_count": 69,
   "id": "c13a3347-d706-49f5-a843-216f0e5f857e",
   "metadata": {},
   "outputs": [],
   "source": [
    "df['name'] = df['name'].str.replace(r'\\W','',regex = True)"
   ]
  },
  {
   "cell_type": "code",
   "execution_count": 71,
   "id": "a7b3f491-622c-4ba7-b576-5b49ab846813",
   "metadata": {},
   "outputs": [
    {
     "data": {
      "text/plain": [
       "0     Mike\n",
       "1    Teddy\n",
       "2     Umar\n",
       "3     Jane\n",
       "4    Uttam\n",
       "5      Kim\n",
       "Name: name, dtype: object"
      ]
     },
     "execution_count": 71,
     "metadata": {},
     "output_type": "execute_result"
    }
   ],
   "source": [
    "df['name']"
   ]
  },
  {
   "cell_type": "code",
   "execution_count": 75,
   "id": "1392a0ba-4162-4ea7-b585-600f04228490",
   "metadata": {},
   "outputs": [
    {
     "data": {
      "text/plain": [
       "0     Datascience#$\n",
       "1           Testing\n",
       "2    Dataanalyst^^#\n",
       "3       Ana^^lytics\n",
       "4        Statistics\n",
       "5               NLP\n",
       "Name: domain, dtype: object"
      ]
     },
     "execution_count": 75,
     "metadata": {},
     "output_type": "execute_result"
    }
   ],
   "source": [
    "df['domain']"
   ]
  },
  {
   "cell_type": "code",
   "execution_count": 77,
   "id": "41f63edd-dfb0-48dd-86b3-677e30e3f7f6",
   "metadata": {},
   "outputs": [],
   "source": [
    "df['domain'] = df['domain'].str.replace(r'\\W','',regex = True)"
   ]
  },
  {
   "cell_type": "code",
   "execution_count": 79,
   "id": "229e9ede-2a85-4c7c-8b9e-f50539636fba",
   "metadata": {},
   "outputs": [
    {
     "data": {
      "text/plain": [
       "0    Datascience\n",
       "1        Testing\n",
       "2    Dataanalyst\n",
       "3      Analytics\n",
       "4     Statistics\n",
       "5            NLP\n",
       "Name: domain, dtype: object"
      ]
     },
     "execution_count": 79,
     "metadata": {},
     "output_type": "execute_result"
    }
   ],
   "source": [
    "df['domain']"
   ]
  },
  {
   "cell_type": "code",
   "execution_count": 81,
   "id": "4a444fd2-b1ba-46ac-839e-05c46ec7f732",
   "metadata": {},
   "outputs": [
    {
     "name": "stdout",
     "output_type": "stream",
     "text": [
      "    name       domain       age   location   salary      exp\n",
      "0   Mike  Datascience  34 years     Mumbai   5^00#0       2+\n",
      "1  Teddy      Testing    45' yr  Bangalore  10%%000       <3\n",
      "2   Umar  Dataanalyst       NaN        NaN  1$5%000   4> yrs\n",
      "3   Jane    Analytics       NaN   Hyderbad   2000^0      NaN\n",
      "4  Uttam   Statistics     67-yr        NaN   30000-  5+ year\n",
      "5    Kim          NLP      55yr      Delhi  6000^$0      10+\n"
     ]
    }
   ],
   "source": [
    "print(df)"
   ]
  },
  {
   "cell_type": "code",
   "execution_count": 83,
   "id": "217a1edf-93ef-4fbb-8e12-c310de334023",
   "metadata": {},
   "outputs": [
    {
     "data": {
      "text/plain": [
       "0    34 years\n",
       "1      45' yr\n",
       "2         NaN\n",
       "3         NaN\n",
       "4       67-yr\n",
       "5        55yr\n",
       "Name: age, dtype: object"
      ]
     },
     "execution_count": 83,
     "metadata": {},
     "output_type": "execute_result"
    }
   ],
   "source": [
    "df['age']"
   ]
  },
  {
   "cell_type": "code",
   "execution_count": 87,
   "id": "dde4a5dd-c926-40e2-9bae-5104aa3c5654",
   "metadata": {},
   "outputs": [],
   "source": [
    "df['age'] = df['age'].str.extract(r'(\\d+)')"
   ]
  },
  {
   "cell_type": "code",
   "execution_count": 89,
   "id": "56f9e5d5-14e4-4c50-9bb2-2f8cf4b618d8",
   "metadata": {},
   "outputs": [
    {
     "data": {
      "text/plain": [
       "0     34\n",
       "1     45\n",
       "2    NaN\n",
       "3    NaN\n",
       "4     67\n",
       "5     55\n",
       "Name: age, dtype: object"
      ]
     },
     "execution_count": 89,
     "metadata": {},
     "output_type": "execute_result"
    }
   ],
   "source": [
    "df['age']"
   ]
  },
  {
   "cell_type": "code",
   "execution_count": 91,
   "id": "3b5df0da-e336-4b97-b902-694db56bfb36",
   "metadata": {},
   "outputs": [
    {
     "data": {
      "text/plain": [
       "0       Mumbai\n",
       "1    Bangalore\n",
       "2          NaN\n",
       "3     Hyderbad\n",
       "4          NaN\n",
       "5        Delhi\n",
       "Name: location, dtype: object"
      ]
     },
     "execution_count": 91,
     "metadata": {},
     "output_type": "execute_result"
    }
   ],
   "source": [
    "df['location']"
   ]
  },
  {
   "cell_type": "code",
   "execution_count": 93,
   "id": "ba6b619e-8673-499e-b935-01f7b45a4a40",
   "metadata": {},
   "outputs": [],
   "source": [
    "df['location'] = df['location'].str.replace(r'\\W','')"
   ]
  },
  {
   "cell_type": "code",
   "execution_count": 95,
   "id": "1b97ef00-0002-4b0e-afb9-6acbef80a7b4",
   "metadata": {},
   "outputs": [
    {
     "data": {
      "text/plain": [
       "0       Mumbai\n",
       "1    Bangalore\n",
       "2          NaN\n",
       "3     Hyderbad\n",
       "4          NaN\n",
       "5        Delhi\n",
       "Name: location, dtype: object"
      ]
     },
     "execution_count": 95,
     "metadata": {},
     "output_type": "execute_result"
    }
   ],
   "source": [
    "df['location']"
   ]
  },
  {
   "cell_type": "code",
   "execution_count": 97,
   "id": "22ee196d-d754-459c-8a37-3c8eb663aca5",
   "metadata": {},
   "outputs": [
    {
     "data": {
      "text/plain": [
       "0     5^00#0\n",
       "1    10%%000\n",
       "2    1$5%000\n",
       "3     2000^0\n",
       "4     30000-\n",
       "5    6000^$0\n",
       "Name: salary, dtype: object"
      ]
     },
     "execution_count": 97,
     "metadata": {},
     "output_type": "execute_result"
    }
   ],
   "source": [
    "df['salary']"
   ]
  },
  {
   "cell_type": "code",
   "execution_count": 105,
   "id": "170d2495-f180-4197-8243-da1400f78b8d",
   "metadata": {},
   "outputs": [],
   "source": [
    "df['salary'] = df['salary'].str.replace(r'\\W','',regex = True)"
   ]
  },
  {
   "cell_type": "code",
   "execution_count": 107,
   "id": "b532dc38-5c6f-463e-b65a-4d4d67211996",
   "metadata": {},
   "outputs": [
    {
     "data": {
      "text/plain": [
       "0     5000\n",
       "1    10000\n",
       "2    15000\n",
       "3    20000\n",
       "4    30000\n",
       "5    60000\n",
       "Name: salary, dtype: object"
      ]
     },
     "execution_count": 107,
     "metadata": {},
     "output_type": "execute_result"
    }
   ],
   "source": [
    "df['salary']"
   ]
  },
  {
   "cell_type": "code",
   "execution_count": 109,
   "id": "aae01111-2461-45b3-9897-9c771e7be76c",
   "metadata": {},
   "outputs": [
    {
     "data": {
      "text/plain": [
       "0         2+\n",
       "1         <3\n",
       "2     4> yrs\n",
       "3        NaN\n",
       "4    5+ year\n",
       "5        10+\n",
       "Name: exp, dtype: object"
      ]
     },
     "execution_count": 109,
     "metadata": {},
     "output_type": "execute_result"
    }
   ],
   "source": [
    "df['exp']"
   ]
  },
  {
   "cell_type": "code",
   "execution_count": 111,
   "id": "fe72304f-7d36-44b2-8201-1ee712590d9d",
   "metadata": {},
   "outputs": [],
   "source": [
    "df['exp'] = df['exp'].str.extract('(\\d+)')"
   ]
  },
  {
   "cell_type": "code",
   "execution_count": 113,
   "id": "081bbdf0-1567-4d98-b61f-75974bd8748f",
   "metadata": {},
   "outputs": [
    {
     "data": {
      "text/plain": [
       "0      2\n",
       "1      3\n",
       "2      4\n",
       "3    NaN\n",
       "4      5\n",
       "5     10\n",
       "Name: exp, dtype: object"
      ]
     },
     "execution_count": 113,
     "metadata": {},
     "output_type": "execute_result"
    }
   ],
   "source": [
    "df['exp']"
   ]
  },
  {
   "cell_type": "code",
   "execution_count": 115,
   "id": "87c0c31c-f6d7-4799-9887-3a641678f490",
   "metadata": {},
   "outputs": [
    {
     "name": "stdout",
     "output_type": "stream",
     "text": [
      "    name       domain  age   location salary  exp\n",
      "0   Mike  Datascience   34     Mumbai   5000    2\n",
      "1  Teddy      Testing   45  Bangalore  10000    3\n",
      "2   Umar  Dataanalyst  NaN        NaN  15000    4\n",
      "3   Jane    Analytics  NaN   Hyderbad  20000  NaN\n",
      "4  Uttam   Statistics   67        NaN  30000    5\n",
      "5    Kim          NLP   55      Delhi  60000   10\n"
     ]
    }
   ],
   "source": [
    "print(df)"
   ]
  },
  {
   "cell_type": "code",
   "execution_count": null,
   "id": "a25925c3-4593-44dc-b2f6-5fe916ac4b1b",
   "metadata": {},
   "outputs": [],
   "source": []
  }
 ],
 "metadata": {
  "kernelspec": {
   "display_name": "Python 3 (ipykernel)",
   "language": "python",
   "name": "python3"
  },
  "language_info": {
   "codemirror_mode": {
    "name": "ipython",
    "version": 3
   },
   "file_extension": ".py",
   "mimetype": "text/x-python",
   "name": "python",
   "nbconvert_exporter": "python",
   "pygments_lexer": "ipython3",
   "version": "3.11.7"
  }
 },
 "nbformat": 4,
 "nbformat_minor": 5
}
